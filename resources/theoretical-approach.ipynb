{
 "cells": [
  {
   "cell_type": "markdown",
   "id": "fd0ab124-d70d-4d70-a6e0-a6e594a41436",
   "metadata": {},
   "source": [
    "# Spaceship around a black hole - a theoretical approach\n",
    "\n",
    "Before creating the game, I'll introduce and compute some quantities in order to study the system behavior. We will by describing the simplified model we are using.\n",
    "\n",
    "We have a spaceship of mass $m$ revolving around a black hole of mass $M$. The black hole has a Schwarzschild radius $R_S$, relating to the event horizon, defined as \n",
    "\n",
    "$$ [1] \\rightarrow   \\;\\;\\;      R_S = \\frac{2GM}{c^2}$$\n",
    "\n",
    "Where $G \\approx 6.67\\cdot10^{-11}$ is the universal gravitional constant and $c$ the speed of light. "
   ]
  },
  {
   "cell_type": "markdown",
   "id": "5f6fa11f-cb1e-4cce-9dc6-4b96c43988df",
   "metadata": {},
   "source": [
    "## On the event horizon\n",
    "\n",
    "Recall the expression of [1]. One can define in orbital mechanics the _escape velocity_ $v_e$ to be the velocity at which an object should move in order to leave the gravitional attraction due to a body. Mathematically, \n",
    "\n",
    "$$ v_e = \\sqrt{\\frac{2GM}{r}} $$\n",
    "\n",
    "We can easily see that given $r = R_S$, $v_e$ equals to $c$. As $v_e$ is also proportional to $1/r$, a lesser distance from the black hole would mean a higher escape velocity than $c$ needed to leave gravitational effects : it is forbidden by special relativity. "
   ]
  },
  {
   "cell_type": "markdown",
   "id": "8b3c293c-b7b4-48c0-b428-90c97470d4f8",
   "metadata": {},
   "source": [
    "## Reduced units\n",
    "\n",
    "To simplify equations, we will work with reduced units by setting $R_S = c = 1$. It follows from [1] that $M = 1/2G$. \n",
    "\n",
    "All quantities will be expressed as multiples of $R_S$, $c$ and $M$, with proportional constants noted with greek letters. As such, we define the mass of the spaceship $m = \\alpha M$ to be a small fraction of the mass of the black hole. "
   ]
  },
  {
   "cell_type": "markdown",
   "id": "e897b4d4-1ec7-4033-972e-eb31853e8561",
   "metadata": {},
   "source": [
    "## Dynamics\n",
    "\n",
    "We will use the law of Newton to model the system.\n",
    "\n",
    "$$ \\partial_t \\; \\vec{p} = \\sum \\vec{F} $$\n",
    "\n",
    "Accounting two forces in the right-hand side. The first one is the classical gravitational force \n",
    "\n",
    "$$ \\vec{F}_G = - G \\frac{Mm}{r^2} \\vec{e}_r$$\n",
    "\n",
    "And the second one brings a first order relativistic correction to dynamics,\n",
    "\n",
    "$$ \\vec{F}_R = -\\frac{3}{2} m \\dot\\theta^2 R_S  \\vec{e}_r$$\n",
    "\n",
    "This reduces to a single differential equation in polar coordinates :\n",
    "\n",
    "$$[2] \\rightarrow   \\;\\;\\;      \\ddot r = - G \\frac{M}{r^2} + (r - \\frac{3}{2}R_S \\dot\\theta ^2) $$\n",
    "\n",
    "We can approximate a solution by the following expression for $r$,\n",
    "$$  [3] \\rightarrow   \\;\\;\\;      r_\\pm (\\theta)= \\frac{\\frac{q}{2} \\pm \\sqrt{\\frac{q^2}{4} - \\frac{3}{2}R_S q (1+e\\cos\\theta) }}{1+e\\cos\\theta} $$\n",
    "\n",
    "Where $q$ is the _semi latus rectum_ of the ellipse and $e$ the eccentricity. Given the space region we are, we can expose two solutions. If $r > 3R_S$, we'll use $r_+$ ; $r_-$ otherwise. This approximation will help us studying the orbit paths of the spaceship before relying on numerical computations to solve the system."
   ]
  },
  {
   "cell_type": "markdown",
   "id": "b485f53a-bc40-4b37-92cb-1a025b0761b4",
   "metadata": {},
   "source": [
    "## Input parameters\n",
    "\n",
    "<a href=\"https://phys.libretexts.org/Bookshelves/Astronomy__Cosmology/Celestial_Mechanics_(Tatum)/09%3A_The_Two_Body_Problem_in_Two_Dimensions/9.04%3A_Kepler's_First_and_Third_Laws_from_Newton's_Law_of_Gravitation\"> Resources </a>\n",
    "\n",
    "The following quantities $\\vec{r}(t = 0), \\vec{v}(t = 0)$ are known. As there's conservation of angular momentum, \n",
    "\n",
    "$$r^2 \\dot \\theta = \\ell_0$$\n",
    "\n",
    "Where $\\ell_0$ is the specific angular momentum ($\\ell_0 = L_0 / m)$, one can reckon $\\ell_0$ and deduce eccentricity of the orbit path,\n",
    "\n",
    "$$ e = \\sqrt{1 + \\frac{2 \\epsilon \\ell_0^2}{\\mu^2}} $$ \n",
    "\n",
    "Where $\\epsilon = \\frac{v^2}{2} - \\frac{\\mu}{r}$ is the specific total energy  (Vis-viva relation) and $\\mu = (m+M)G \\approx MG$ is the gravitational parameter. Finally, compute the semi latus rectum with \n",
    "\n",
    "$$ q = \\frac{\\ell_0^2}{\\mu} $$\n",
    "\n",
    "We will test out different input parameters and study according trajectories."
   ]
  },
  {
   "cell_type": "markdown",
   "id": "aca7bbbb-33be-4664-887b-6f060f8c5497",
   "metadata": {},
   "source": [
    "## Post-newtonian expansion is only valid for weak gravitational field\n",
    "\n",
    "According to theory, relativistic corrections brought by post-newtonian expansion is only valid for a weak gravitational field. Let's recall the classical gravitational field\n",
    "\n",
    "$$ \\Phi = - G \\frac{M}{r^2} $$ \n",
    "\n",
    "To weaken $\\Phi$, we can only adopt two strategies : decreasing $M$ or increasing $r$. As we are dealing with a black hole, $M$ is condemned. The only solution is to search values for $r$ that are sufficiently interesting. Let's be a bit descriptive : \n",
    "\n",
    "* $r \\leq R_S$ : at this distance, the gravitational field is very strong. Post-newtonian approximation isn't valuable here.\n",
    "* $r \\in (R_S, \\frac{3}{2} R_S]$ : at $1.5R_S$ is the **photon sphere**. Orbits of massive objects should be unstable.\n",
    "* $r \\in (\\frac{3}{2} R_S, 3R_S)$ : $3R_S$ is the first stable orbit. Approximation done using $r_-$.\n",
    "* $r \\in (3R_S,+\\infty)$ : approximation done using $r_+$."
   ]
  },
  {
   "cell_type": "markdown",
   "id": "be5be777-fe52-4b44-881d-1f724d1798ee",
   "metadata": {},
   "source": [
    "**Notes** \n",
    "\n",
    "Attention : \n",
    "\n",
    "<a href=\"https://www.phys.ufl.edu/courses/phz6607/fall20/Reports/Jinye_Yang_Post-Newtonian_Theory.pdf\">L'approximation post-newtonienne n'est vrai que pour un weak gravitational field</a>\n",
    "\n",
    "À faire :\n",
    "\n",
    "- RM,RP : \n",
    "    - Voir comment évolue l'excentricité pour la trouver égale à 0.\n",
    "    - Voir comment évolue le SLR pour voir si on ne passe pas en-dessous de $R_S$.\n",
    "\n",
    "Pour continuer, \n",
    "\n",
    "- Tirer un missile change la vitesse de mon vaisseau (conservation de la qté de mouvement)  $\\rightarrow$ ça change mon moment angulaire $\\rightarrow$ change $(q,e)$ \n",
    "- De même si je reçois un missile."
   ]
  },
  {
   "cell_type": "code",
   "execution_count": 1,
   "id": "375396ba-8eb9-4d9a-8f02-3fc326247b10",
   "metadata": {},
   "outputs": [
    {
     "name": "stdout",
     "output_type": "stream",
     "text": [
      "pygame 2.6.0 (SDL 2.28.4, Python 3.12.4)\n",
      "Hello from the pygame community. https://www.pygame.org/contribute.html\n"
     ]
    }
   ],
   "source": [
    "from pygame import Vector2\n",
    "import numpy as np\n",
    "import matplotlib.pyplot as plt"
   ]
  },
  {
   "cell_type": "code",
   "execution_count": 2,
   "id": "54db7499-2a71-4f21-8e0c-00b84f1e2493",
   "metadata": {},
   "outputs": [],
   "source": [
    "# physical constants\n",
    "G = 6.67*10E-11\n",
    "c = 1\n",
    "R_S = 1\n",
    "\n",
    "# scaling factors\n",
    "alpha = 10E-18\n",
    "\n",
    "# physical quantities\n",
    "M = 1/(2*G)\n",
    "m = alpha * M\n",
    "mu = M * G"
   ]
  },
  {
   "cell_type": "code",
   "execution_count": 50,
   "id": "5ad91143-bafb-4971-95ca-8a2319a4aae8",
   "metadata": {},
   "outputs": [],
   "source": [
    "## utils - may not be util anymore\n",
    "def Vec2Polar(r, theta):\n",
    "    return Vector2.from_polar((r, theta))\n",
    "\n",
    "class VelVec2Polar(Vector2):\n",
    "    def __init__(self, rdot, thetadot, \n",
    "                 position = Vector2.from_polar((0.,0.))):\n",
    "        super().__init__()\n",
    "        self.r, self.theta = position.as_polar()\n",
    "        self.r_dot = rdot\n",
    "        self.theta_dot = thetadot\n",
    "        self.update_cartesian()  # Conversion initiale polaire -> cartésienne\n",
    "\n",
    "    def update_cartesian(self):\n",
    "        \"\"\"Projette les vitesses polaires en coordonnées cartésiennes.\"\"\"\n",
    "        # Conversion du vecteur vitesse polaire en vecteur vitesse cartésien\n",
    "        vx = self.r_dot * np.cos(self.theta) - (self.r * self.theta_dot) * np.sin(self.theta)\n",
    "        vy = self.r_dot * np.sin(self.theta) + (self.r * self.theta_dot) * np.cos(self.theta)\n",
    "        \n",
    "        # Met à jour les composantes x et y du vecteur vitesse cartésien\n",
    "        self.x = vx\n",
    "        self.y = vy\n",
    "    \n",
    "    def magnitude(self):\n",
    "        \"\"\"Calcul de la magnitude en coordonnées polaires.\"\"\"\n",
    "        return np.sqrt(self.r_dot**2 + (self.r * self.theta_dot)**2)\n",
    "    \n",
    "    def update_polar(self, r, r_dot, theta, theta_dot):\n",
    "        \"\"\"Met à jour r, r_dot, theta et theta_dot, puis recalcule les coordonnées cartésiennes.\"\"\"\n",
    "        self.r = r\n",
    "        self.r_dot = r_dot\n",
    "        self.theta = theta\n",
    "        self.theta_dot = theta_dot\n",
    "        self.update_cartesian()"
   ]
  },
  {
   "cell_type": "code",
   "execution_count": 165,
   "id": "1b1c730b-1f5d-4b8b-9444-6174cf575a19",
   "metadata": {},
   "outputs": [],
   "source": [
    "# input parameters\n",
    "r0 = Vec2Polar(r = 10 * R_S, theta = 0.)\n",
    "v0 = VelVec2Polar(rdot = 0. * c, thetadot = 0.001*c, position = r0)"
   ]
  },
  {
   "cell_type": "code",
   "execution_count": 166,
   "id": "49c192ee-572b-4edb-b41f-9f7c4a0a695e",
   "metadata": {},
   "outputs": [],
   "source": [
    "# system utils\n",
    "l0_polar = lambda r,v : r.magnitude()**2 * v.theta_dot\n",
    "l0 = l0_polar(r0, v0) # conservation of angular momentum \n",
    "\n",
    "def specific_energy_polar(r,v, mu = mu):\n",
    "    return v.magnitude()**2 / r.magnitude()    -   mu / r.magnitude()\n",
    "    \n",
    "def eccentricity_polar(r,v, l0 = l0, mu = mu): \n",
    "    k = 2 * specific_energy_polar(r,v,mu) * l0 ** 2\n",
    "    return np.sqrt(1 + k/mu**2 )\n",
    "\n",
    "def semi_latus_rectum_polar(mu=mu, l0=l0):\n",
    "    return (l0**2) / mu\n",
    "\n",
    "def rp(theta, e, q, R_S = R_S):\n",
    "    # ( a + c) / b\n",
    "    a = q / 2\n",
    "    b = 1 + e * np.cos(theta)\n",
    "    \n",
    "    c1 = (q**2)/4\n",
    "    c2 = (3/2 * q * R_S * (1 + e * np.cos(theta)))\n",
    "    c = np.sqrt( c1 - c2 ) \n",
    "    \n",
    "    return (a + c) / b\n",
    "\n",
    "def rm(theta, e, q, R_S = R_S):\n",
    "    # ( a - c) / b\n",
    "    a = q / 2\n",
    "    b = 1 + e * np.cos(theta)\n",
    "\n",
    "    c1 = (q**2)/4\n",
    "    c2 = (3/2 * q * R_S * (1 + e * np.cos(theta)))\n",
    "    c = np.sqrt( c1 - c2 ) \n",
    "    \n",
    "    return (a - c) / b"
   ]
  },
  {
   "cell_type": "markdown",
   "id": "14733843-148d-4edf-96ef-db46851f4958",
   "metadata": {},
   "source": [
    "Given the input parameters, we do compute (q,e)."
   ]
  },
  {
   "cell_type": "code",
   "execution_count": 167,
   "id": "2acd63ec-d700-4018-a762-312708e3dbb8",
   "metadata": {},
   "outputs": [
    {
     "name": "stdout",
     "output_type": "stream",
     "text": [
      "l0 = 0.1,\n",
      "e = np.float64(0.9979983967922995),\n",
      "q = 0.020000000000000004 \n"
     ]
    }
   ],
   "source": [
    "e = eccentricity_polar(r0, v0)\n",
    "q = semi_latus_rectum_polar()\n",
    "\n",
    "print(f\"{l0 = },\\n{e = },\\n{q = } \")"
   ]
  },
  {
   "cell_type": "markdown",
   "id": "20780afa-4aae-45a1-bf0d-41942109e3d3",
   "metadata": {},
   "source": [
    "And finally, using leapfrog, compute $r$ and $\\theta$"
   ]
  }
 ],
 "metadata": {
  "kernelspec": {
   "display_name": "Python 3 (ipykernel)",
   "language": "python",
   "name": "python3"
  },
  "language_info": {
   "codemirror_mode": {
    "name": "ipython",
    "version": 3
   },
   "file_extension": ".py",
   "mimetype": "text/x-python",
   "name": "python",
   "nbconvert_exporter": "python",
   "pygments_lexer": "ipython3",
   "version": "3.12.4"
  }
 },
 "nbformat": 4,
 "nbformat_minor": 5
}
